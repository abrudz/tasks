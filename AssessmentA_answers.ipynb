{
 "cells": [
  {
   "cell_type": "markdown",
   "metadata": {},
   "source": [
    "### 1\n",
    "```\n",
    "MultiplyAndSkip←{⍵+⍺×⍳7}\n",
    "```"
   ]
  },
  {
   "cell_type": "markdown",
   "metadata": {},
   "source": [
    "### 2\n",
    "```\n",
    "Mat1←{2 3⍴⍳6}\n",
    "Mat2←{¯2+2 3⍴⍳6}\n",
    "Mat3←{3 2⍴-⍳6}\n",
    "```"
   ]
  },
  {
   "cell_type": "markdown",
   "metadata": {},
   "source": [
    "### 3\n",
    "```\n",
    "F←{⍺⍪⍵}\n",
    "G←{⍵,⍵}\n",
    "```"
   ]
  },
  {
   "cell_type": "markdown",
   "metadata": {},
   "source": [
    "### 4\n",
    "```\n",
    "ToVector ← {,⍵}\n",
    "```"
   ]
  },
  {
   "cell_type": "markdown",
   "metadata": {},
   "source": [
    "### 5\n",
    "```\n",
    "Sum2ndLast ← {+/[¯1+⍴⍴⍵]⍵} \n",
    "Sum2ndLast ← {+⌿[¯1+⍴⍴⍵]⍵}\n",
    "```"
   ]
  },
  {
   "cell_type": "markdown",
   "metadata": {},
   "source": [
    "### 6\n",
    "```\n",
    "DropRandRows ← {(?(⍴⍵)[1])↓⍵}\n",
    "DropRandRows ← {⍵↓⍨?⊃⍴⍵}\n",
    "```"
   ]
  },
  {
   "cell_type": "markdown",
   "metadata": {},
   "source": [
    "### 7\n",
    "```\n",
    "PickRandCols ← {((1↑s),?1↓s←⍴⍵)↑⍵} 2 5⍴⍳10\n",
    "\n",
    "\n",
    "⍝ Fitting the problem description\n",
    "\n",
    "mat ← 10 4⍴⍳12\n",
    "   {1↓⍴⍵} mat\n",
    "{(⍴⍵)[2]} mat\n",
    "   {2⊃⍴⍵} mat\n",
    "\n",
    "PickRandCols ← {⍵[;c?⍨?c←2⊃⍴⍵]}\n",
    "\n",
    "```"
   ]
  },
  {
   "cell_type": "markdown",
   "metadata": {},
   "source": [
    "### 8\n",
    "```\n",
    "RIota ← {⍵-¯1+⍳⍵}\n",
    "RIota ← {⌽⍳⍵}\n",
    "```"
   ]
  },
  {
   "cell_type": "markdown",
   "metadata": {},
   "source": [
    "### 9\n",
    "```\n",
    "Reverse ← {⍵[RIota ⍴⍵]} \n",
    "```"
   ]
  },
  {
   "cell_type": "markdown",
   "metadata": {},
   "source": [
    "### 10\n",
    "```\n",
    "ColumnsSurpass ← {(⍺<+⌿⍵)/⍵}\n",
    "ColumnsSurpass ← {⍵[;{⍵/⍳⍴⍵}⍺<+⌿⍵]}\n",
    "ColumnsSurpass ← {⍵[;h/⍳⍴h←⍺<+⌿⍵]}\n",
    "```"
   ]
  },
  {
   "cell_type": "markdown",
   "metadata": {},
   "source": [
    "### 11\n",
    "```\n",
    "Range ← {(⌈/⍵)-⌊/⍵}\n",
    "Range ← {⌈/⍵-⌊/⍵}\n",
    "```"
   ]
  },
  {
   "cell_type": "markdown",
   "metadata": {},
   "source": [
    "### 12\n",
    "```\n",
    "{(∨/(⍴⍵)⍴(⌈/,⍵)=,⍵)⌿⍵}   ⍝ Rows containing the largest number in the whole matrix\n",
    "\n",
    "MaxRangeRow ← {(r=⌈/r←{(⌈/⍵)-⌊/⍵}⍵)⌿⍵}\n",
    "```"
   ]
  },
  {
   "cell_type": "markdown",
   "metadata": {},
   "source": [
    "### 13\n",
    "```\n",
    "IsInteger ← {0=1|⍵}\n",
    "IsInteger ← {⍵=⌈⍵}\n",
    "IsInteger ← {⍵=⌊⍵}\n",
    "```"
   ]
  },
  {
   "cell_type": "markdown",
   "metadata": {},
   "source": [
    "## 14\n",
    "```\n",
    " TopDown←{\n",
    "     ⍵[⍒⌈/⍵;]\n",
    " }\n",
    " \n",
    " Sort ← {(⊂⍋⍵)⌷⍵}\n",
    "```"
   ]
  },
  {
   "cell_type": "markdown",
   "metadata": {},
   "source": [
    "### 15\n",
    "```\n",
    "RemoveFrom ← {⍵⌿⍨~⍵∊⍺}\n",
    "RemoveFrom ← {⍵~⍺}\n",
    "```"
   ]
  },
  {
   "cell_type": "markdown",
   "metadata": {},
   "source": [
    "### 16\n",
    "```\n",
    "RemoveExtra ← {⍵~u⊃⍨⊃⍒+⌿⍵∘.=u←∪⍵}\n",
    "RemoveExtra ← {(⍵≠(c=⌈/c←+⌿⍵∘.=u)⌿u←∪⍵)⌿⍵}\n",
    "```"
   ]
  },
  {
   "cell_type": "markdown",
   "metadata": {},
   "source": [
    "### 17\n",
    "```\n",
    "TimesTable ← {(⍳⍵)∘.×⍳⍵}\n",
    "TimesTable ← {∘.×⍨⍳⍵}\n",
    "```"
   ]
  },
  {
   "cell_type": "markdown",
   "metadata": {},
   "source": [
    "### 18\n",
    "```\n",
    "      {⍋⍵} 3 1 4 1 5\n",
    "2 4 1 3 5\n",
    "      {(⍋⍵)≡⍳⍴⍵} 3 1 4 1 5\n",
    "0\n",
    "      {(⍋⍵)} Sort 3 1 4 1 5\n",
    "1 2 3 4 5\n",
    "      {(⍋⍵)≡⍳⍴⍵} Sort 3 1 4 1 5\n",
    "1\n",
    "\n",
    "      Sort ← {(⊂⍋⍵)⌷⍵}\n",
    "      {Sort ⍵} 3 1 4 1 5\n",
    "1 1 3 4 5\n",
    "      {⍵≡Sort ⍵} 3 1 4 1 5\n",
    "0\n",
    "      {⍵≡Sort ⍵} Sort 3 1 4 1 5\n",
    "1\n",
    "\n",
    "      Where←{⍵/⍳⍴⍵}\n",
    "      'hello'{(⍺∊⍵)/⍳⍴⍺}'l'\n",
    "```"
   ]
  },
  {
   "cell_type": "markdown",
   "metadata": {},
   "source": [
    "### 19\n",
    "```\n",
    "AnyCopies ← {∨/1<+⌿⍵∘.=∪⍵}\n",
    "```"
   ]
  },
  {
   "cell_type": "markdown",
   "metadata": {},
   "source": [
    "### 20\n",
    "```\n",
    "      ]display {∨\\' '=⍵} '     poof   '\n",
    "┌→──────────────────────┐\n",
    "│1 1 1 1 1 1 1 1 1 1 1 1│\n",
    "└~──────────────────────┘\n",
    "      ]display {∨\\' '=⍵} '2342141     poof   '\n",
    "┌→────────────────────────────────────┐\n",
    "│0 0 0 0 0 0 0 1 1 1 1 1 1 1 1 1 1 1 1│\n",
    "└~────────────────────────────────────┘\n",
    "      ]display {(~∧\\' '=⍵)/⍵} '     poof   '\n",
    "┌→──────┐\n",
    "│poof   │\n",
    "└───────┘\n",
    "```"
   ]
  },
  {
   "cell_type": "markdown",
   "metadata": {},
   "source": [
    "### 21\n",
    "```\n",
    "KeepOnly ← {⍺⌿⍨⍺∊⍵}\n",
    "```"
   ]
  },
  {
   "cell_type": "markdown",
   "metadata": {},
   "source": [
    "### 22\n",
    "```\n",
    "HasElements←{~0∊⍴⍵}\n",
    "```"
   ]
  },
  {
   "cell_type": "markdown",
   "metadata": {},
   "source": [
    "### 23\n",
    "```\n",
    "Overlaps ← {∨/⍺∊⍵}\n",
    "Overlaps ← {∨/⍵∊⍺}\n",
    "```"
   ]
  },
  {
   "cell_type": "markdown",
   "metadata": {},
   "source": [
    "### 24\n",
    "```\n",
    "OfLength ← {⍺⌿⍨⍵=+/⍺≠' '} \n",
    "```"
   ]
  },
  {
   "cell_type": "markdown",
   "metadata": {},
   "source": [
    "### 25\n",
    "```\n",
    "Explode ← {(⍳⍵)/⍳⍵}\n",
    "```"
   ]
  },
  {
   "cell_type": "markdown",
   "metadata": {},
   "source": [
    "### 26\n",
    "```\n",
    "NoFizzBuzz ← {⍵⌿⍨~∨⌿0=3 5∘.|⍵}\n",
    "```"
   ]
  },
  {
   "cell_type": "markdown",
   "metadata": {},
   "source": [
    "### 27\n",
    "```\n",
    "CentredIn ← {r⌽⍨-⌈0.5×+/' '=r←⍵↑⍺}\n",
    "CentredIn ← {r⌽⍨-⌊0.5×+/' '=r←⍵↑⍺}\n",
    "```"
   ]
  }
 ],
 "metadata": {
  "kernelspec": {
   "display_name": "Dyalog APL",
   "language": "apl",
   "name": "dyalog-kernel"
  },
  "language_info": {
   "file_extension": ".apl",
   "mimetype": "text/apl",
   "name": "APL"
  }
 },
 "nbformat": 4,
 "nbformat_minor": 2
}
