{
 "cells": [
  {
   "cell_type": "markdown",
   "metadata": {},
   "source": [
    "### Native Files\n",
    "```\n",
    "      ⍝ Tie the file (tie or create)\n",
    "      ⍝ Read the file ⎕NREAD, append new data ⎕NAPPEND, delete the file ⎕NERASE\n",
    "      ⍝ Native files: text files, audio files, executable files\n",
    "      ⍝ Negative tie number\n",
    "```"
   ]
  },
  {
   "cell_type": "markdown",
   "metadata": {},
   "source": [
    "```\n",
    "file←'C:\\tmp\\test.txt' 'C:\\tmp\\test2.txt'\n",
    "tn←⎕NTIE...\n",
    "\n",
    "\n",
    "      file\n",
    " C:\\tmp\\test.txt  C:\\tmp\\test2.txt \n",
    "      tn\n",
    "¯1 ¯2\n",
    "\n",
    "      file[2]\n",
    " C:\\tmp\\test2.txt \n",
    "      file[2] ⎕NERASE tn[2]\n",
    "DOMAIN ERROR: Left argument should be a character arr\n",
    "ay\n",
    "      file[2]⎕NERASE tn[2]\n",
    "             ∧\n",
    "      ]disp file[2]\n",
    "┌────────────────┐\n",
    "│C:\\tmp\\test2.txt│\n",
    "└───────────────→┘\n",
    "      ]disp ⊃file[2]\n",
    "C:\\tmp\\test2.txt\n",
    "      ]disp 2⊃file\n",
    "C:\\tmp\\test2.txt\n",
    "```"
   ]
  },
  {
   "cell_type": "markdown",
   "metadata": {},
   "source": [
    "```\n",
    "file ⎕NERASE¨tn\n",
    "\n",
    " GoAway←{\n",
    "     ⍵ ⎕NERASE ⍵ ⎕NTIE 0\n",
    " ⍝    tn←⍵ ⎕NTIE 0    ⍝ Tie file\n",
    " ⍝    ⍵ ⎕NERASE tn    ⍝ Erase the file (automatically unties)\n",
    " }\n",
    " \n",
    "      ∇ GoAway2 files;file                                                                                      \n",
    "[1]    :For file :In files                                                                                     \n",
    "[2]        file ⎕NERASE file ⎕NTIE 0                                                                           \n",
    "[3]    :EndFor                                                                                                 \n",
    "     ∇  \n",
    "```"
   ]
  },
  {
   "cell_type": "markdown",
   "metadata": {},
   "source": [
    "```\n",
    "      ⎕VR'Monadic'\n",
    "     ∇ Monadic arg                    \n",
    "[1]    ⎕←arg                          \n",
    "     ∇ \n",
    "     \n",
    "     \n",
    "      Monadic 4\n",
    "4\n",
    "      3 Monadic 4\n",
    "SYNTAX ERROR: The function does not take a left argument\n",
    "      3 Monadic 4\n",
    "        ∧     \n",
    "```"
   ]
  },
  {
   "cell_type": "markdown",
   "metadata": {},
   "source": [
    "```\n",
    "      ⎕VR'Dyadic'\n",
    "     ∇ left Dyadic arg                                                   \n",
    "[1]    ⎕←'left: 'left                                                    \n",
    "[2]    ⎕←'right: 'arg                                                    \n",
    "     ∇                                                                   \n",
    "\n",
    "      1 2 3 Dyadic 4\n",
    " left:   1 2 3 \n",
    " right:   4\n",
    "      Dyadic 4\n",
    "SYNTAX ERROR: The function requires a left argument\n",
    "      Dyadic 4\n",
    "      ∧\n",
    "```"
   ]
  }
 ],
 "metadata": {
  "kernelspec": {
   "display_name": "Dyalog APL",
   "language": "apl",
   "name": "dyalog-kernel"
  },
  "language_info": {
   "file_extension": ".apl",
   "mimetype": "text/apl",
   "name": "APL"
  }
 },
 "nbformat": 4,
 "nbformat_minor": 2
}
