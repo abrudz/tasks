{
 "cells": [
  {
   "cell_type": "markdown",
   "metadata": {},
   "source": [
    "# Partitioning\n",
    "APL has two similar functions for partitioning arrays into nested arrays:\n",
    "\n",
    "Partitioned-enclose `⍺⊂⍵` and partition `⍺⊆⍵`"
   ]
  },
  {
   "cell_type": "markdown",
   "metadata": {},
   "source": [
    "## Migration Level\n",
    "The behaviour of the *partition* function can be achieved in 2 ways:\n",
    "\n",
    "Prior to Dyalog version 16.0, use `Partition←{⎕ML←3 ⋄ ⍺⊂⍵}`\n",
    "\n",
    "From version 16.0 onwards, use `Partition←{⍺ ⎕U2286 ⍵}`\n",
    "\n",
    "The monadic function **enclose-if-simple** can be encoded as a dfn: `EIS ← {1≥≡⍵: ⊂⍵ ⋄ ⍵}`\n",
    "\n",
    "From version 16.0 onwards, use `EIS←{⎕U2286 ⍵}`\n",
    "\n",
    "The only relation between partition, partitioned-enclose and enclose-if-simple is the use of left-shoe and left-shoe-underbar symbols, and use with nested arrays. Otherwise they are completely different functions."
   ]
  },
  {
   "cell_type": "markdown",
   "metadata": {},
   "source": [
    "## Enclose Rows\n",
    "Here is an example of the \"enclose last axis\" function (tasks8 #14). This is the same as the \"split\" function (monadic `↓`). Note the difference between \"conventional\" programming logic in the first solution (traditional function) and \"array-oriented\" logic in the second solution (dfn)."
   ]
  },
  {
   "cell_type": "code",
   "execution_count": 9,
   "metadata": {},
   "outputs": [],
   "source": [
    "∇  array←EncloseRows array;rank\n",
    "    rank←⍴⍴array                \n",
    "    :If rank>1                  \n",
    "        array←⊂[rank]array      \n",
    "    :Else                       \n",
    "        array←⊂array            \n",
    "    :EndIf                      \n",
    "∇                              "
   ]
  },
  {
   "cell_type": "code",
   "execution_count": 8,
   "metadata": {},
   "outputs": [
    {
     "data": {
      "text/html": [
       "<span style=\"white-space:pre; font-family: monospace\">┌─────┐\n",
       "│1 2 3│\n",
       "└~───→┘\n",
       "</span>"
      ]
     },
     "execution_count": 8,
     "metadata": {},
     "output_type": "execute_result"
    }
   ],
   "source": [
    "]disp EncloseRows 1 2 3"
   ]
  },
  {
   "cell_type": "code",
   "execution_count": 3,
   "metadata": {},
   "outputs": [
    {
     "data": {
      "text/html": [
       "<span style=\"white-space:pre; font-family: monospace\">┌─────┐\n",
       "│1 2 3│\n",
       "└~───→┘\n",
       "</span>"
      ]
     },
     "execution_count": 3,
     "metadata": {},
     "output_type": "execute_result"
    }
   ],
   "source": [
    "]disp {⊂[(0<r)/r←⍴⍴⍵]⍵} 1 2 3"
   ]
  },
  {
   "cell_type": "markdown",
   "metadata": {},
   "source": [
    "A dfn using \"conventional\" logic as as follows:"
   ]
  },
  {
   "cell_type": "code",
   "execution_count": 4,
   "metadata": {},
   "outputs": [
    {
     "data": {
      "text/html": [
       "<span style=\"white-space:pre; font-family: monospace\">┌─────┐\n",
       "│1 2 3│\n",
       "└~───→┘\n",
       "</span>"
      ]
     },
     "execution_count": 4,
     "metadata": {},
     "output_type": "execute_result"
    }
   ],
   "source": [
    "]disp {1<la←⍴⍴⍵: ⊂[la]⍵ ⋄ ⊂⍵} 1 2 3"
   ]
  },
  {
   "cell_type": "markdown",
   "metadata": {},
   "source": [
    "And finally, using split:"
   ]
  },
  {
   "cell_type": "code",
   "execution_count": 5,
   "metadata": {},
   "outputs": [
    {
     "data": {
      "text/html": [
       "<span style=\"white-space:pre; font-family: monospace\">┌─────┐\n",
       "│1 2 3│\n",
       "└~───→┘\n",
       "</span>"
      ]
     },
     "execution_count": 5,
     "metadata": {},
     "output_type": "execute_result"
    }
   ],
   "source": [
    "]disp ↓1 2 3"
   ]
  },
  {
   "cell_type": "markdown",
   "metadata": {},
   "source": [
    "## Tasks 8 #11 #12 #13"
   ]
  },
  {
   "cell_type": "markdown",
   "metadata": {},
   "source": [
    "Convert integers to booleans in several ways:"
   ]
  },
  {
   "cell_type": "code",
   "execution_count": 2,
   "metadata": {},
   "outputs": [
    {
     "data": {
      "text/html": [
       "<span style=\"white-space:pre; font-family: monospace\">1 0 1 0 0 0 1 1\n",
       "</span>"
      ]
     },
     "execution_count": 2,
     "metadata": {},
     "output_type": "execute_result"
    }
   ],
   "source": [
    "{b←(⌈/⍵)⍴0 ⋄ b[⍵]←1 ⋄ b} 1 3 7 3 7 8"
   ]
  },
  {
   "cell_type": "code",
   "execution_count": 3,
   "metadata": {},
   "outputs": [
    {
     "data": {
      "text/html": [
       "<span style=\"white-space:pre; font-family: monospace\">1 0 1 0 0 0 1 1\n",
       "</span>"
      ]
     },
     "execution_count": 3,
     "metadata": {},
     "output_type": "execute_result"
    }
   ],
   "source": [
    "{b←(⌈/⍵)⍴0 ⋄ ((⊂⍵)⌷b)←1 ⋄ b} 1 3 7 3 7 8"
   ]
  },
  {
   "cell_type": "code",
   "execution_count": 6,
   "metadata": {},
   "outputs": [
    {
     "data": {
      "text/html": [
       "<span style=\"white-space:pre; font-family: monospace\">1 0 1 0 0 0 1 1\n",
       "</span>"
      ]
     },
     "execution_count": 6,
     "metadata": {},
     "output_type": "execute_result"
    }
   ],
   "source": [
    "MaskAt ← {⍵∊⍨⍳⌈/⍵}\n",
    "MaskAt 1 3 7 3 7 8"
   ]
  },
  {
   "cell_type": "markdown",
   "metadata": {},
   "source": [
    "The `MaskAt` function can be used with *partitioned-enclose* to achieve the `SplitAt` function:"
   ]
  },
  {
   "cell_type": "code",
   "execution_count": 7,
   "metadata": {},
   "outputs": [
    {
     "data": {
      "text/html": [
       "<span style=\"white-space:pre; font-family: monospace\">┌──┬────┬──────┐\n",
       "│AB│CDEF│GHIJKL│\n",
       "└──┴────┴──────┘\n",
       "</span>"
      ]
     },
     "execution_count": 7,
     "metadata": {},
     "output_type": "execute_result"
    }
   ],
   "source": [
    "1 3 3 7 {((⍴⍵)↑MaskAt ⍺)⊂⍵} 12↑⎕A"
   ]
  },
  {
   "cell_type": "markdown",
   "metadata": {},
   "source": [
    "However, we can simply use the *ideas* in `MaskAt` directly in our `SplitAt` function:"
   ]
  },
  {
   "cell_type": "code",
   "execution_count": 8,
   "metadata": {},
   "outputs": [
    {
     "data": {
      "text/html": [
       "<span style=\"white-space:pre; font-family: monospace\">┌──┬────┬───┐\n",
       "│AB│CDEF│GHI│\n",
       "└──┴────┴───┘\n",
       "</span>"
      ]
     },
     "execution_count": 8,
     "metadata": {},
     "output_type": "execute_result"
    }
   ],
   "source": [
    "1 3 3 7 {((⍳⍴⍵)∊⍺)⊂⍵} 9↑⎕A"
   ]
  },
  {
   "cell_type": "markdown",
   "metadata": {},
   "source": [
    "Remove parentheses using the commute (swap) operator `⍨`"
   ]
  },
  {
   "cell_type": "code",
   "execution_count": 9,
   "metadata": {},
   "outputs": [
    {
     "data": {
      "text/html": [
       "<span style=\"white-space:pre; font-family: monospace\">┌──┬────┬───┐\n",
       "│AB│CDEF│GHI│\n",
       "└──┴────┴───┘\n",
       "</span>"
      ]
     },
     "execution_count": 9,
     "metadata": {},
     "output_type": "execute_result"
    }
   ],
   "source": [
    "1 3 3 7 {⍵⊂⍨⍺∊⍨⍳⍴⍵} 9↑⎕A"
   ]
  },
  {
   "cell_type": "markdown",
   "metadata": {},
   "source": [
    "An alternative coding uses an outer product for comparison."
   ]
  },
  {
   "cell_type": "code",
   "execution_count": 13,
   "metadata": {},
   "outputs": [
    {
     "data": {
      "text/html": [
       "<span style=\"white-space:pre; font-family: monospace\">┌────┬───┐\n",
       "│CDEF│GHI│\n",
       "└────┴───┘\n",
       "</span>"
      ]
     },
     "execution_count": 13,
     "metadata": {},
     "output_type": "execute_result"
    }
   ],
   "source": [
    "3 7 {⍵⊂⍨+⌿⍺∘.=⍳⍴⍵} 9↑⎕A"
   ]
  },
  {
   "cell_type": "markdown",
   "metadata": {},
   "source": [
    "But watch out for the edge cases of a scalar left argument, or duplicate elements in the left argument!"
   ]
  },
  {
   "cell_type": "code",
   "execution_count": 15,
   "metadata": {
    "scrolled": true
   },
   "outputs": [
    {
     "data": {
      "text/html": [
       "<span style=\"white-space:pre; font-family: monospace\">┌─┬─┬─┬─┬─┬─┬─┬─┬─┐\n",
       "│A│B│C│D│E│F│G│H│I│\n",
       "└─┴─┴─┴─┴─┴─┴─┴─┴─┘\n",
       "</span>"
      ]
     },
     "execution_count": 15,
     "metadata": {},
     "output_type": "execute_result"
    }
   ],
   "source": [
    "7 {⍵⊂⍨+⌿⍺∘.=⍳⍴⍵} 9↑⎕A"
   ]
  },
  {
   "cell_type": "code",
   "execution_count": 16,
   "metadata": {},
   "outputs": [
    {
     "data": {
      "text/html": [
       "<span style=\"white-space:pre; font-family: monospace\">┌──┬┬────┬───┐\n",
       "│AB││CDEF│GHI│\n",
       "└──┴┴────┴───┘\n",
       "</span>"
      ]
     },
     "execution_count": 16,
     "metadata": {},
     "output_type": "execute_result"
    }
   ],
   "source": [
    "1 3 3 7 {⍵⊂⍨+⌿⍺∘.=⍳⍴⍵} 9↑⎕A"
   ]
  },
  {
   "cell_type": "markdown",
   "metadata": {},
   "source": [
    "Fix with **or-reduce** and **ravel**:"
   ]
  },
  {
   "cell_type": "code",
   "execution_count": 17,
   "metadata": {},
   "outputs": [
    {
     "data": {
      "text/html": [
       "<span style=\"white-space:pre; font-family: monospace\">┌───┐\n",
       "│GHI│\n",
       "└───┘\n",
       "</span>"
      ]
     },
     "execution_count": 17,
     "metadata": {},
     "output_type": "execute_result"
    }
   ],
   "source": [
    "7 {⍵⊂⍨∨⌿(,⍺)∘.=⍳⍴⍵} 9↑⎕A"
   ]
  },
  {
   "cell_type": "code",
   "execution_count": 18,
   "metadata": {
    "scrolled": true
   },
   "outputs": [
    {
     "data": {
      "text/html": [
       "<span style=\"white-space:pre; font-family: monospace\">┌──┬────┬───┐\n",
       "│AB│CDEF│GHI│\n",
       "└──┴────┴───┘\n",
       "</span>"
      ]
     },
     "execution_count": 18,
     "metadata": {},
     "output_type": "execute_result"
    }
   ],
   "source": [
    "1 3 3 7 {⍵⊂⍨∨⌿(,⍺)∘.=⍳⍴⍵} 9↑⎕A"
   ]
  },
  {
   "cell_type": "markdown",
   "metadata": {},
   "source": [
    "## Split on delimiter\n",
    "This is most easily achieved with the \"partition\" function. That is represented by dyadic `⊆` in Dyalog Unicode version 16.0 onwards. In Classic, we can use `Part←{⍺ ⎕U2286 ⍵}`. For versions prior to 16.0, use `Part←{⎕ML←3 ⋄ ⍺⊂⍵}`."
   ]
  },
  {
   "cell_type": "code",
   "execution_count": 11,
   "metadata": {},
   "outputs": [
    {
     "data": {
      "text/html": [
       "<span style=\"white-space:pre; font-family: monospace\">┌─────┬─────┐\n",
       "│hello│world│\n",
       "└─────┴─────┘\n",
       "</span>"
      ]
     },
     "execution_count": 11,
     "metadata": {},
     "output_type": "execute_result"
    }
   ],
   "source": [
    "Part←{⎕ML←3 ⋄ ⍺⊂⍵}\n",
    "' ' {(⍺≠⍵)Part⍵} 'hello world'"
   ]
  },
  {
   "cell_type": "markdown",
   "metadata": {},
   "source": [
    "For multiple delimiters, use not-membership:"
   ]
  },
  {
   "cell_type": "code",
   "execution_count": 12,
   "metadata": {},
   "outputs": [
    {
     "data": {
      "text/html": [
       "<span style=\"white-space:pre; font-family: monospace\">┌────┬─────┬─────┐\n",
       "│well│hello│there│\n",
       "└────┴─────┴─────┘\n",
       "</span>"
      ]
     },
     "execution_count": 12,
     "metadata": {},
     "output_type": "execute_result"
    }
   ],
   "source": [
    "'#!' {(~⍵∊⍺)Part⍵} 'well#hello!there'"
   ]
  },
  {
   "cell_type": "markdown",
   "metadata": {},
   "source": [
    "## Tasks8 #17\n",
    "One solution converts the argument into a list of numbers and references to the root namespace (`#`)."
   ]
  },
  {
   "cell_type": "code",
   "execution_count": 13,
   "metadata": {},
   "outputs": [
    {
     "data": {
      "text/html": [
       "<span style=\"white-space:pre; font-family: monospace\">14 32 612 4 54\n",
       "</span>"
      ]
     },
     "execution_count": 13,
     "metadata": {},
     "output_type": "execute_result"
    }
   ],
   "source": [
    "{((⍎⍵)≠⍎'#')/⍎⍵} '14#32#612#4#54'"
   ]
  },
  {
   "cell_type": "markdown",
   "metadata": {},
   "source": [
    "However, this solution does not generalise to other delimiters. In this case, we would likely want to modify a temporary array."
   ]
  },
  {
   "cell_type": "code",
   "execution_count": 14,
   "metadata": {},
   "outputs": [
    {
     "data": {
      "text/html": [
       "<span style=\"white-space:pre; font-family: monospace\">42 31 216\n",
       "</span>"
      ]
     },
     "execution_count": 14,
     "metadata": {},
     "output_type": "execute_result"
    }
   ],
   "source": [
    "{r←⍵ ⋄ (('#'=r)/r)←' ' ⋄ ,⍎r}'42#31#216'"
   ]
  },
  {
   "cell_type": "code",
   "execution_count": 15,
   "metadata": {},
   "outputs": [
    {
     "data": {
      "text/html": [
       "<span style=\"white-space:pre; font-family: monospace\">42 31 216\n",
       "</span>"
      ]
     },
     "execution_count": 15,
     "metadata": {},
     "output_type": "execute_result"
    }
   ],
   "source": [
    "{r←⍵ ⋄ r[m/⍳⍴m←r='#']←' ' ⋄ ,⍎r}'42#31#216'"
   ]
  },
  {
   "cell_type": "markdown",
   "metadata": {},
   "source": [
    "This same technique will still work, even if we use `'%'` or any other character instead of `'#'`."
   ]
  },
  {
   "cell_type": "code",
   "execution_count": 16,
   "metadata": {},
   "outputs": [
    {
     "data": {
      "text/html": [
       "<span style=\"white-space:pre; font-family: monospace\">42 31 216\n",
       "</span>"
      ]
     },
     "execution_count": 16,
     "metadata": {},
     "output_type": "execute_result"
    }
   ],
   "source": [
    "'%' {r←⍵ ⋄ ((⍺=r)/r)←' ' ⋄ ,⍎r} '42%31%216'"
   ]
  },
  {
   "cell_type": "code",
   "execution_count": 17,
   "metadata": {},
   "outputs": [
    {
     "data": {
      "text/html": [
       "<span style=\"white-space:pre; font-family: monospace\">42 31 216\n",
       "</span>"
      ]
     },
     "execution_count": 17,
     "metadata": {},
     "output_type": "execute_result"
    }
   ],
   "source": [
    "'$' {r←⍵ ⋄ ((⍺=r)/r)←' ' ⋄ ,⍎r} '42$31$216'"
   ]
  },
  {
   "cell_type": "markdown",
   "metadata": {},
   "source": [
    "## Tasks8 #18\n",
    "We need to split on delimiter(s) and execute each. We use ravel `,⍵` to ensure our arguments and results are vectors."
   ]
  },
  {
   "cell_type": "code",
   "execution_count": 20,
   "metadata": {},
   "outputs": [
    {
     "data": {
      "text/html": [
       "<span style=\"white-space:pre; font-family: monospace\">┌→──────────────────┐\n",
       "│ ┌→──┐ ┌→────┐ ┌→┐ │\n",
       "│ │1 2│ │5 3 2│ │4│ │\n",
       "│ └~──┘ └~────┘ └~┘ │\n",
       "└∊──────────────────┘\n",
       "</span>"
      ]
     },
     "execution_count": 20,
     "metadata": {},
     "output_type": "execute_result"
    }
   ],
   "source": [
    "]display {,¨⍎¨(⍵≠',')Part ,⍵} '1 2,5 3 2,4'"
   ]
  },
  {
   "cell_type": "code",
   "execution_count": 22,
   "metadata": {
    "scrolled": true
   },
   "outputs": [
    {
     "data": {
      "text/html": [
       "<span style=\"white-space:pre; font-family: monospace\">┌→──────────────────┐\n",
       "│ ┌→──┐ ┌→────┐ ┌→┐ │\n",
       "│ │1 2│ │5 3 2│ │4│ │\n",
       "│ └~──┘ └~────┘ └~┘ │\n",
       "└∊──────────────────┘\n",
       "</span>"
      ]
     },
     "execution_count": 22,
     "metadata": {},
     "output_type": "execute_result"
    }
   ],
   "source": [
    "]display {,¨⍎¨ (~⍵∊',#')Part ,⍵} '1 2,5 3 2#4'"
   ]
  },
  {
   "cell_type": "markdown",
   "metadata": {},
   "source": [
    "## Tasks 8 #19"
   ]
  },
  {
   "cell_type": "code",
   "execution_count": 23,
   "metadata": {},
   "outputs": [
    {
     "data": {
      "text/html": [
       "<span style=\"white-space:pre; font-family: monospace\">2  9 10 10 6\n",
       "3 15  4 10 9\n",
       "            \n",
       "            \n",
       "2  9 10 10 6\n",
       "3 15  4 10 9\n",
       "</span>"
      ]
     },
     "execution_count": 23,
     "metadata": {},
     "output_type": "execute_result"
    }
   ],
   "source": [
    "(2 1 5⍴1 3 2 5 3) {↑(↓⍺)∘.×(↓⍵)} (2 5⍴2 3 5 2)"
   ]
  },
  {
   "cell_type": "markdown",
   "metadata": {},
   "source": [
    "In recent versions of Dyalog, we can use the [rank operator](http://help.dyalog.com/latest/#Language/Primitive%20Operators/Rank.htm)."
   ]
  },
  {
   "cell_type": "code",
   "execution_count": 24,
   "metadata": {},
   "outputs": [
    {
     "data": {
      "text/html": [
       "<span style=\"white-space:pre; font-family: monospace\">2  9 10 10 6\n",
       "3 15  4 10 9\n",
       "            \n",
       "            \n",
       "2  9 10 10 6\n",
       "3 15  4 10 9\n",
       "</span>"
      ]
     },
     "execution_count": 24,
     "metadata": {},
     "output_type": "execute_result"
    }
   ],
   "source": [
    "(2 1 5⍴1 3 2 5 3) (×⍤1⍤1 99) (2 5⍴2 3 5 2)"
   ]
  }
 ],
 "metadata": {
  "kernelspec": {
   "display_name": "Dyalog APL",
   "language": "apl",
   "name": "dyalog-kernel"
  },
  "language_info": {
   "file_extension": ".apl",
   "mimetype": "text/apl",
   "name": "APL"
  }
 },
 "nbformat": 4,
 "nbformat_minor": 2
}
