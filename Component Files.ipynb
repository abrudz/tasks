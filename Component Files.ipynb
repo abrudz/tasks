{
 "cells": [
  {
   "cell_type": "markdown",
   "metadata": {},
   "source": [
    "# Component Files\n",
    "- Require tying and untying\n",
    "- Structurally similar to a nested vector\n",
    "- Components have a \"component number\"\n",
    "- We can only append or drop components\n",
    "- Multiple users can access at the same time using shared ties\n",
    "- We can control multi-user access\n",
    "\n",
    "See the documentation for [a list of system functions used with component files](http://help.dyalog.com/17.1/#Language/APL%20Component%20Files/Component%20Files.htm)."
   ]
  },
  {
   "cell_type": "code",
   "execution_count": 12,
   "metadata": {},
   "outputs": [],
   "source": [
    "cfile ← '\\tmp\\my_component_file'"
   ]
  },
  {
   "cell_type": "markdown",
   "metadata": {},
   "source": [
    "Old Dyalog versions use **.DCF** extension.\n",
    "\n",
    "Newer versions use **.dcf** extension.\n",
    "\n",
    "We do not need to provide a file extension to `⎕FTIE` and `⎕FCREATE`."
   ]
  },
  {
   "cell_type": "markdown",
   "metadata": {},
   "source": [
    "## Create, tie and untie\n",
    "**Note:** Tied files are *not* untied when we use `⎕LOAD`, `)LOAD` or `)CLEAR`."
   ]
  },
  {
   "cell_type": "code",
   "execution_count": 13,
   "metadata": {
    "scrolled": true
   },
   "outputs": [
    {
     "data": {
      "text/html": [
       "<span style=\"white-space:pre; font-family: monospace\">1\n",
       "</span>"
      ]
     },
     "execution_count": 13,
     "metadata": {},
     "output_type": "execute_result"
    }
   ],
   "source": [
    "tn ← cfile ⎕FCREATE 0\n",
    "⎕←⎕FNUMS   ⍝ List tied files"
   ]
  },
  {
   "cell_type": "code",
   "execution_count": 14,
   "metadata": {},
   "outputs": [
    {
     "data": {
      "text/html": [
       "<span style=\"white-space:pre; font-family: monospace\">1\n",
       "</span>"
      ]
     },
     "execution_count": 14,
     "metadata": {},
     "output_type": "execute_result"
    }
   ],
   "source": [
    "⎕←⎕FUNTIE tn"
   ]
  },
  {
   "cell_type": "markdown",
   "metadata": {},
   "source": [
    "## Reading and writing\n",
    "Component files have a similar structure to **nested vectors**"
   ]
  },
  {
   "cell_type": "code",
   "execution_count": 15,
   "metadata": {},
   "outputs": [
    {
     "data": {
      "text/html": [
       "<span style=\"white-space:pre; font-family: monospace\">┌─────┬───┬───┐\n",
       "│first│1 2│3rd│\n",
       "│     │3 4│   │\n",
       "└─────┴───┴───┘\n",
       "</span>"
      ]
     },
     "execution_count": 15,
     "metadata": {},
     "output_type": "execute_result"
    }
   ],
   "source": [
    "⎕←nested_vector ← 'first' (2 2⍴⍳4) '3rd'"
   ]
  },
  {
   "cell_type": "markdown",
   "metadata": {},
   "source": [
    "We can only append components and drop components. This is like if we could only catenate or drop from our nested vector."
   ]
  },
  {
   "cell_type": "code",
   "execution_count": 21,
   "metadata": {},
   "outputs": [
    {
     "data": {
      "text/html": [
       "<span style=\"white-space:pre; font-family: monospace\">new component\n",
       "</span>"
      ]
     },
     "execution_count": 21,
     "metadata": {},
     "output_type": "execute_result"
    }
   ],
   "source": [
    "nested_vector,←'new component'\n",
    "⎕←nested_vector"
   ]
  },
  {
   "cell_type": "code",
   "execution_count": null,
   "metadata": {},
   "outputs": [],
   "source": [
    "nested_vector ↓← 2  \n",
    "⎕←nested_vector"
   ]
  },
  {
   "cell_type": "code",
   "execution_count": 22,
   "metadata": {},
   "outputs": [],
   "source": [
    "nested_vector,←('we can' 'include' (2 3⍴-⍳6) 'any array')"
   ]
  },
  {
   "cell_type": "code",
   "execution_count": 16,
   "metadata": {},
   "outputs": [],
   "source": [
    "tn ← cfile ⎕FTIE 0\n",
    "'first' ⎕FAPPEND tn\n",
    "(2 2⍴⍳4)'3rd' ⎕FAPPEND¨tn"
   ]
  },
  {
   "cell_type": "markdown",
   "metadata": {},
   "source": [
    "To read a component from the file, you must specify a component number."
   ]
  },
  {
   "cell_type": "code",
   "execution_count": 18,
   "metadata": {},
   "outputs": [
    {
     "data": {
      "text/html": [
       "<span style=\"white-space:pre; font-family: monospace\">first\n",
       "</span>"
      ]
     },
     "execution_count": 18,
     "metadata": {},
     "output_type": "execute_result"
    }
   ],
   "source": [
    "⎕FREAD tn 1   ⍝ Read the first component"
   ]
  },
  {
   "cell_type": "code",
   "execution_count": 19,
   "metadata": {},
   "outputs": [
    {
     "data": {
      "text/html": [
       "<span style=\"white-space:pre; font-family: monospace\">┌─────┬───┬───┐\n",
       "│first│1 2│3rd│\n",
       "│     │3 4│   │\n",
       "└─────┴───┴───┘\n",
       "</span>"
      ]
     },
     "execution_count": 19,
     "metadata": {},
     "output_type": "execute_result"
    }
   ],
   "source": [
    "⎕FREAD¨tn,¨⍳3"
   ]
  },
  {
   "cell_type": "markdown",
   "metadata": {},
   "source": [
    "Of course, the components you try to read must exist:"
   ]
  },
  {
   "cell_type": "code",
   "execution_count": 20,
   "metadata": {},
   "outputs": [
    {
     "name": "stderr",
     "output_type": "stream",
     "text": [
      "FILE INDEX ERROR: \\tmp\\my_component_file.dcf: No such component\n",
      "      ⎕FREAD tn 4\n",
      "      ∧\n"
     ]
    }
   ],
   "source": [
    "⎕FREAD tn 4"
   ]
  },
  {
   "cell_type": "markdown",
   "metadata": {},
   "source": [
    "### Replacing and dropping components\n",
    "We can replace any existing component in a file with a new array."
   ]
  },
  {
   "cell_type": "code",
   "execution_count": null,
   "metadata": {},
   "outputs": [],
   "source": [
    "(3 2⍴'new' 'component' (2 2⍴3↑1))⎕FREPLACE tn 2\n",
    "⎕FREAD tn 2"
   ]
  },
  {
   "cell_type": "markdown",
   "metadata": {},
   "source": [
    "`⎕FDROP` behaves similarly to `⍺↓⍵`"
   ]
  },
  {
   "cell_type": "code",
   "execution_count": 23,
   "metadata": {},
   "outputs": [
    {
     "name": "stderr",
     "output_type": "stream",
     "text": [
      "FILE INDEX ERROR: \\tmp\\my_component_file.dcf: No such component\n",
      "      ⎕FREAD tn 1\n",
      "      ∧\n"
     ]
    }
   ],
   "source": [
    "⎕FDROP tn 1   ⍝ Drop 1 from the beginning\n",
    "⎕FREAD tn 1"
   ]
  },
  {
   "cell_type": "markdown",
   "metadata": {},
   "source": [
    "*How do I know which component numbers are used?*\n",
    "\n",
    "`⎕FSIZE` shows:\n",
    "\n",
    "- The number of the first component in the file\n",
    "- The number of the next new component (1 + number of the last component)\n",
    "- The current file size in bytes\n",
    "- The maximum file size in bytes (usually a very big number on modern systems)"
   ]
  },
  {
   "cell_type": "code",
   "execution_count": 25,
   "metadata": {},
   "outputs": [
    {
     "data": {
      "text/html": [
       "<span style=\"white-space:pre; font-family: monospace\">2 4 1456 1.84467E19\n",
       "</span>"
      ]
     },
     "execution_count": 25,
     "metadata": {},
     "output_type": "execute_result"
    }
   ],
   "source": [
    "⎕FSIZE tn"
   ]
  },
  {
   "cell_type": "code",
   "execution_count": 24,
   "metadata": {
    "scrolled": false
   },
   "outputs": [
    {
     "data": {
      "text/html": [
       "<span style=\"white-space:pre; font-family: monospace\">┌───┬───┐\n",
       "│1 2│3rd│\n",
       "│3 4│   │\n",
       "└───┴───┘\n",
       "</span>"
      ]
     },
     "execution_count": 24,
     "metadata": {},
     "output_type": "execute_result"
    }
   ],
   "source": [
    "⎕FREAD¨tn,¨2 3"
   ]
  },
  {
   "cell_type": "markdown",
   "metadata": {},
   "source": [
    "Dropping too many components leaves an empty file:"
   ]
  },
  {
   "cell_type": "code",
   "execution_count": 26,
   "metadata": {},
   "outputs": [
    {
     "data": {
      "text/html": [
       "<span style=\"white-space:pre; font-family: monospace\">2 2 1456 1.84467E19\n",
       "</span>"
      ]
     },
     "execution_count": 26,
     "metadata": {},
     "output_type": "execute_result"
    }
   ],
   "source": [
    "⎕FDROP tn ¯2   ⍝ Drop two from the end\n",
    "⎕FSIZE tn"
   ]
  },
  {
   "cell_type": "code",
   "execution_count": 27,
   "metadata": {
    "scrolled": true
   },
   "outputs": [
    {
     "name": "stderr",
     "output_type": "stream",
     "text": [
      "FILE INDEX ERROR: \\tmp\\my_component_file.dcf: No such component\n",
      "      ⎕FREAD tn 2\n",
      "      ∧\n"
     ]
    }
   ],
   "source": [
    "⎕FREAD tn 2"
   ]
  },
  {
   "cell_type": "markdown",
   "metadata": {},
   "source": [
    "## Multi-user access\n",
    "Use a shared file tie so multiple users can access at the same time."
   ]
  },
  {
   "cell_type": "markdown",
   "metadata": {},
   "source": [
    "A user is identified with an account number. This is both the [*configuration parameter*](http://course.dyalog.com/autumn2021/Interpreter-internals/#configuration-parameters) called **APLNID** and also it is the first element of `⎕AI` (account information.\n",
    "\n",
    "The default user is user `0`."
   ]
  },
  {
   "cell_type": "code",
   "execution_count": 28,
   "metadata": {},
   "outputs": [
    {
     "data": {
      "text/html": [
       "<span style=\"white-space:pre; font-family: monospace\">0\n",
       "</span>"
      ]
     },
     "execution_count": 28,
     "metadata": {},
     "output_type": "execute_result"
    }
   ],
   "source": [
    "⎕←2⎕NQ'.' 'GetEnvironment' 'APLNID'"
   ]
  },
  {
   "cell_type": "code",
   "execution_count": 29,
   "metadata": {},
   "outputs": [
    {
     "data": {
      "text/html": [
       "<span style=\"white-space:pre; font-family: monospace\">0 2281 5115337 5112951\n",
       "</span>"
      ]
     },
     "execution_count": 29,
     "metadata": {},
     "output_type": "execute_result"
    }
   ],
   "source": [
    "⎕AI"
   ]
  },
  {
   "cell_type": "markdown",
   "metadata": {},
   "source": [
    "In order to simulate a separate user, you can set an environment variable.\n",
    "\n",
    "Let us pretend to be a user with ID 42.\n",
    "\n",
    "On macOS and Linux command lines:\n",
    "\n",
    "`$ dyalog APLNID=42`\n",
    "\n",
    "On Microsoft Windows command prompt:\n",
    "\n",
    "```\n",
    "> set APLNID=42\n",
    "> \"C:\\Program Files\\Dyalog\\Dyalog APL-64 17.1 Classic\\dyalog.exe\"\n",
    "```\n",
    "\n",
    "On Powershell:\n",
    "\n",
    "```\n",
    "PS $Env:APLNID=42\n",
    "PS & 'C:\\Program Files\\Dyalog\\Dyalog APL-64 17.1 Classic\\dyalog.exe'\n",
    "```"
   ]
  },
  {
   "cell_type": "markdown",
   "metadata": {},
   "source": [
    "Use `⎕FSTIE` for shared file ties. If you use `⎕FTIE` (exclusive tie), then no other user will be able to access the file at the same time."
   ]
  },
  {
   "cell_type": "markdown",
   "metadata": {},
   "source": [
    "## Holding a file\n",
    "\"Holding\" a file means that access to the file by other processes is not allowed until the **hold** is released. This is done using `⎕FHOLD`."
   ]
  },
  {
   "cell_type": "markdown",
   "metadata": {},
   "source": [
    "## Access matrices\n",
    "Specific control of files (ability to read, write, append, delete etc.) is configured using **access matrices**.\n",
    "\n",
    "See also the help for [`⎕FRDAC`](https://help.dyalog.com/17.1/index.htm#Language/System%20Functions/frdac.htm) and [`⎕FSDAC`](https://help.dyalog.com/17.1/index.htm#Language/System%20Functions/fstac.htm).\n",
    "\n",
    "See [Chapter N section 1.3.3](https://www.dyalog.com/uploads/documents/MasteringDyalogAPL.pdf#%5B%7B%22num%22%3A1071%2C%22gen%22%3A0%7D%2C%7B%22name%22%3A%22XYZ%22%7D%2C40%2C367%2C0%5D) of Mastering Dyalog APL."
   ]
  }
 ],
 "metadata": {
  "kernelspec": {
   "display_name": "Dyalog APL",
   "language": "apl",
   "name": "dyalog-kernel"
  },
  "language_info": {
   "file_extension": ".apl",
   "mimetype": "text/apl",
   "name": "APL"
  }
 },
 "nbformat": 4,
 "nbformat_minor": 2
}
