{
 "cells": [
  {
   "cell_type": "code",
   "execution_count": 3,
   "metadata": {},
   "outputs": [
    {
     "data": {
      "text/html": [
       "<span style=\"white-space:pre; font-family: monospace\">0123456789\n",
       "</span>"
      ]
     },
     "execution_count": 3,
     "metadata": {},
     "output_type": "execute_result"
    },
    {
     "data": {
      "text/html": [
       "<span style=\"white-space:pre; font-family: monospace\">0 1 2 3 4 5 6 7 8 9\n",
       "</span>"
      ]
     },
     "execution_count": 3,
     "metadata": {},
     "output_type": "execute_result"
    },
    {
     "data": {
      "text/html": [
       "<span style=\"white-space:pre; font-family: monospace\">10\n",
       "</span>"
      ]
     },
     "execution_count": 3,
     "metadata": {},
     "output_type": "execute_result"
    },
    {
     "data": {
      "text/html": [
       "<span style=\"white-space:pre; font-family: monospace\">80\n",
       "</span>"
      ]
     },
     "execution_count": 3,
     "metadata": {},
     "output_type": "execute_result"
    },
    {
     "data": {
      "text/html": [
       "<span style=\"white-space:pre; font-family: monospace\">83\n",
       "</span>"
      ]
     },
     "execution_count": 3,
     "metadata": {},
     "output_type": "execute_result"
    }
   ],
   "source": [
    "⎕d\n",
    "¯1+⍳10\n",
    "⍴⎕d\n",
    "⎕DR ⎕d\n",
    "⎕DR ¯1+⍳10"
   ]
  },
  {
   "cell_type": "code",
   "execution_count": 4,
   "metadata": {},
   "outputs": [
    {
     "data": {
      "text/html": [
       "<span style=\"white-space:pre; font-family: monospace\">0 0 0 0 0 0 0 0 1 0 0 1 0 0 0 0 0 1\n",
       "</span>"
      ]
     },
     "execution_count": 4,
     "metadata": {},
     "output_type": "execute_result"
    },
    {
     "data": {
      "text/html": [
       "<span style=\"white-space:pre; font-family: monospace\">123\n",
       "</span>"
      ]
     },
     "execution_count": 4,
     "metadata": {},
     "output_type": "execute_result"
    },
    {
     "data": {
      "text/html": [
       "<span style=\"white-space:pre; font-family: monospace\">Easy as ,  and \n",
       "</span>"
      ]
     },
     "execution_count": 4,
     "metadata": {},
     "output_type": "execute_result"
    },
    {
     "data": {
      "text/html": [
       "<span style=\"white-space:pre; font-family: monospace\">11 11 11 11 11 11 11 11 2 11 11 3 11 11 11 11 11 4\n",
       "</span>"
      ]
     },
     "execution_count": 4,
     "metadata": {},
     "output_type": "execute_result"
    },
    {
     "data": {
      "text/html": [
       "<span style=\"white-space:pre; font-family: monospace\">********1**2*****3\n",
       "</span>"
      ]
     },
     "execution_count": 4,
     "metadata": {},
     "output_type": "execute_result"
    }
   ],
   "source": [
    "{⍵∊⎕D} 'Easy as 1, 2 and 3'\n",
    "{(⍵∊⎕D)⌿⍵} 'Easy as 1, 2 and 3'\n",
    "{(~⍵∊⎕D)⌿⍵} 'Easy as 1, 2 and 3'\n",
    "{⎕D⍳⍵} 'Easy as 1, 2 and 3'\n",
    "{(⎕D,'*')[⎕D⍳⍵]} 'Easy as 1, 2 and 3'"
   ]
  },
  {
   "cell_type": "markdown",
   "metadata": {},
   "source": [
    "### Evaluating polynomials\n",
    "\n",
    "$ f(x) = 3x^2 + 2x + 5 $"
   ]
  },
  {
   "cell_type": "code",
   "execution_count": 5,
   "metadata": {
    "scrolled": true
   },
   "outputs": [
    {
     "data": {
      "text/html": [
       "<span style=\"white-space:pre; font-family: monospace\">10 12  3\n",
       " 5 10 12\n",
       "325 461  38\n",
       " 90 325 461\n",
       "328 464  41\n",
       " 93 328 464\n",
       "</span>"
      ]
     },
     "execution_count": 5,
     "metadata": {},
     "output_type": "execute_result"
    }
   ],
   "source": [
    "3+{⎕←(3×⍵*2) + (2×⍵) + 5} ⎕←2 3⍴10 12 3 5"
   ]
  },
  {
   "cell_type": "code",
   "execution_count": 6,
   "metadata": {},
   "outputs": [
    {
     "data": {
      "text/html": [
       "<span style=\"white-space:pre; font-family: monospace\">¯1 4\n",
       "</span>"
      ]
     },
     "execution_count": 6,
     "metadata": {},
     "output_type": "execute_result"
    }
   ],
   "source": [
    "(a b c)←2 ¯6 ¯8\n",
    "(-b(+,-)0.5*⍨(b*2)-4×a×c)÷2×a"
   ]
  },
  {
   "cell_type": "code",
   "execution_count": 7,
   "metadata": {},
   "outputs": [],
   "source": [
    "]dinput\n",
    "QuadEval←{\n",
    "  (a b c)←⍺\n",
    "  ⍝ (a×⍵*2)+(b×⍵)+c\n",
    "  ⍝ +/a b c×[2]⍵∘.*⌽¯1+⍳3\n",
    "  ⍝ a b c+.×⍉⍵∘.*⌽¯1+⍳3\n",
    "  ⍺⊥⍨⍪⍵\n",
    "}"
   ]
  },
  {
   "cell_type": "code",
   "execution_count": 8,
   "metadata": {},
   "outputs": [
    {
     "data": {
      "text/html": [
       "<span style=\"white-space:pre; font-family: monospace\">0 0\n",
       "</span>"
      ]
     },
     "execution_count": 8,
     "metadata": {},
     "output_type": "execute_result"
    }
   ],
   "source": [
    "2 ¯6 ¯8 QuadEval ¯1 4"
   ]
  },
  {
   "cell_type": "markdown",
   "metadata": {},
   "source": [
    "Generalised to higher polynomials:\n",
    "\n",
    "$ f(x) = 5x^5 - 3x^2 + 4x - 2 $"
   ]
  },
  {
   "cell_type": "code",
   "execution_count": 16,
   "metadata": {},
   "outputs": [
    {
     "data": {
      "text/html": [
       "<span style=\"white-space:pre; font-family: monospace\">¯1256 15568\n",
       "</span>"
      ]
     },
     "execution_count": 16,
     "metadata": {},
     "output_type": "execute_result"
    }
   ],
   "source": [
    "5 0 0 ¯3 4 ¯2 {⍺+.×⍉⍵∘.*⌽¯1+⍳⍴⍺} ¯3 5"
   ]
  },
  {
   "cell_type": "code",
   "execution_count": 10,
   "metadata": {
    "scrolled": true
   },
   "outputs": [
    {
     "data": {
      "text/html": [
       "<span style=\"white-space:pre; font-family: monospace\">¯1256 15568\n",
       "</span>"
      ]
     },
     "execution_count": 10,
     "metadata": {},
     "output_type": "execute_result"
    }
   ],
   "source": [
    "(⍪¯3 5)⊥5 0 0 ¯3 4 ¯2"
   ]
  },
  {
   "cell_type": "markdown",
   "metadata": {},
   "source": [
    "### Inner product:"
   ]
  },
  {
   "cell_type": "code",
   "execution_count": 11,
   "metadata": {},
   "outputs": [
    {
     "data": {
      "text/html": [
       "<span style=\"white-space:pre; font-family: monospace\">¯4\n",
       "</span>"
      ]
     },
     "execution_count": 11,
     "metadata": {},
     "output_type": "execute_result"
    },
    {
     "data": {
      "text/html": [
       "<span style=\"white-space:pre; font-family: monospace\">¯4\n",
       "</span>"
      ]
     },
     "execution_count": 11,
     "metadata": {},
     "output_type": "execute_result"
    },
    {
     "data": {
      "text/html": [
       "<span style=\"white-space:pre; font-family: monospace\">0 1 0\n",
       "</span>"
      ]
     },
     "execution_count": 11,
     "metadata": {},
     "output_type": "execute_result"
    },
    {
     "data": {
      "text/html": [
       "<span style=\"white-space:pre; font-family: monospace\">1\n",
       "</span>"
      ]
     },
     "execution_count": 11,
     "metadata": {},
     "output_type": "execute_result"
    },
    {
     "data": {
      "text/html": [
       "<span style=\"white-space:pre; font-family: monospace\">1\n",
       "</span>"
      ]
     },
     "execution_count": 11,
     "metadata": {},
     "output_type": "execute_result"
    }
   ],
   "source": [
    "1 0 ¯1+.×4 5 8\n",
    "+/1 0 ¯1 × 4 5 8\n",
    "'AEI' = 'OEO'\n",
    "+/'AEI' = 'OEO'\n",
    "'AEI' +.= 'OEO'"
   ]
  },
  {
   "cell_type": "markdown",
   "metadata": {},
   "source": [
    "## User-defined functions"
   ]
  },
  {
   "cell_type": "code",
   "execution_count": 12,
   "metadata": {
    "scrolled": true
   },
   "outputs": [
    {
     "name": "stderr",
     "output_type": "stream",
     "text": [
      "SYNTAX ERROR\n",
      "      13 Times←{13×⍵}\n",
      "              ∧\n"
     ]
    }
   ],
   "source": [
    "13Times ← {13×⍵}\n",
    "⍝ DefinedFunction\n",
    "⍝ ∆MyFn∆"
   ]
  },
  {
   "cell_type": "code",
   "execution_count": 13,
   "metadata": {},
   "outputs": [
    {
     "data": {
      "text/html": [
       "<span style=\"white-space:pre; font-family: monospace\">QuadEval\n",
       "a       \n",
       "b       \n",
       "c       \n",
       "</span>"
      ]
     },
     "execution_count": 13,
     "metadata": {},
     "output_type": "execute_result"
    }
   ],
   "source": [
    "⎕NL⍳9"
   ]
  },
  {
   "cell_type": "markdown",
   "metadata": {},
   "source": [
    "### In the editor\n",
    "- <kbd>Esc</kbd>: Close and save changes\n",
    "- <kbd>Shift+Esc</kbd>: Close but do not save"
   ]
  },
  {
   "cell_type": "code",
   "execution_count": 14,
   "metadata": {},
   "outputs": [],
   "source": [
    "     ∇ Main\n",
    "[1]   ⍝ Find the mean value of lengths of words in a text file\n",
    "[2]    3+4\n",
    "[3]    ¯1+6×⍳10\n",
    "[4]    var←'hello'\n",
    "[5]    var2←'hello'\n",
    "[6]   ⍝ Under program control\n",
    "     ∇"
   ]
  },
  {
   "cell_type": "code",
   "execution_count": 15,
   "metadata": {
    "scrolled": false
   },
   "outputs": [
    {
     "data": {
      "text/html": [
       "<span style=\"white-space:pre; font-family: monospace\">     ∇ Main                                                          \n",
       "[1]    [1]   ⍝ Find the mean value of lengths of words in a text file\n",
       "[2]    [2]3+4                                                        \n",
       "[3]    [3]¯1+6×⍳10                                                   \n",
       "[4]    [4]var←'hello'                                                \n",
       "[5]    [5]var2←'hello'                                               \n",
       "[6]    [6]   ⍝ Under program control                                 \n",
       "     ∇                                                               \n",
       "</span>"
      ]
     },
     "execution_count": 15,
     "metadata": {},
     "output_type": "execute_result"
    }
   ],
   "source": [
    "⎕VR'Main'"
   ]
  },
  {
   "cell_type": "markdown",
   "metadata": {},
   "source": [
    "### In the debugger/tracer \n",
    "- <kbd>Enter</kbd>: Execute line\n",
    "- <kbd>Shift+Enter</kbd>: Edit\n",
    "- <kbd>Ctrl+Up</kbd>: Toggle local name"
   ]
  },
  {
   "cell_type": "markdown",
   "metadata": {},
   "source": [
    "```\n",
    "      ⎕VR'SetStopsA'\n",
    "     ∇ SetStopsA lines                             \n",
    "[1]    lines ⎕STOP'A'                              \n",
    "     ∇ \n",
    "```"
   ]
  },
  {
   "cell_type": "markdown",
   "metadata": {},
   "source": [
    "```\n",
    "result←{option}Lengths filepath;text;tn;total_length;nwords\n",
    "⍝ Find information about lengths of words in a text file\n",
    "⍝ {option}:\n",
    "⍝           mean\n",
    "⍝  default: total\n",
    "⍝ --- Read the file ---\n",
    " tn←filepath ⎕NTIE 0\n",
    " text←⎕NREAD tn 82 ¯1\n",
    " ⎕NUNTIE tn ⍝ ⎕NUNTIE⎕NNUMS\n",
    "⍝ --- Get the list of word lengths ---\n",
    "⍝ Assuming all non-spaces are word characters and words separated by 1 space only\n",
    " total_length←+/' '≠text\n",
    "⍝ --- Total / Mean ---\n",
    " :If 0=⎕NC'option'\n",
    " ⍝ Function was called monadically\n",
    "     result←total_length\n",
    " :Else\n",
    "     :Select option\n",
    "     :Case 'mean'\n",
    "         nwords←1++/' '=text\n",
    "         result←total_length÷nwords\n",
    "     :Case 'total'\n",
    "         result←total_length\n",
    "     :Else\n",
    "         result←'Unknown Option'\n",
    "     :EndSelect\n",
    " :EndIf\n",
    "```"
   ]
  },
  {
   "cell_type": "markdown",
   "metadata": {},
   "source": [
    "```\n",
    "]box on\n",
    "]rows -fold=3\n",
    "```"
   ]
  },
  {
   "cell_type": "markdown",
   "metadata": {},
   "source": [
    "```\n",
    "      {(⍳⍴⍵)⌽¨⊂⍵}'racecar'\n",
    "(⎕←2 3⍴'carrOP') {⍺∊⍵}'racecar'\n",
    "      'carrace' {⍺≡¨(⍳⍴⍵)⌽¨⊂⍵}'racecar'\n",
    "0 0 0 0 0 0 0\n",
    "      'carrace' {⍺∘≡¨(⍳⍴⍵)⌽¨⊂⍵}'racecar'\n",
    "0 0 0 1 0 0 0\n",
    "'carrace' {∨/∧/⍺=[2]↑(⍳⍴⍵)⌽¨⊂⍵}'racecar'\n",
    "'carrace' {(⊂⍺)∊(⍳⍴⍵)⌽¨⊂⍵}'racecar'\n",
    "```"
   ]
  },
  {
   "cell_type": "markdown",
   "metadata": {},
   "source": [
    "```\n",
    " ReplaceAt←{\n",
    "     result←⍵\n",
    "     (⍵[1⊃⍺])←2⊃⍺\n",
    "     result\n",
    " }\n",
    "\n",
    "\n",
    " ReplaceAt←{\n",
    "     result←⍵\n",
    "     (result[1⊃⍺])←2⊃⍺\n",
    "     result\n",
    " }\n",
    " \n",
    " \n",
    "  ReplaceAt←{\n",
    "     result←⍵ ⋄ (i v)←⍺\n",
    "     result[i]←v\n",
    "     result\n",
    " }\n",
    " \n",
    " \n",
    "     ∇ array←args ReplaceAt array;v;i\n",
    "[1]    (i v)←args                    \n",
    "[2]    array[i]←v                    \n",
    "     ∇   \n",
    "```"
   ]
  },
  {
   "cell_type": "markdown",
   "metadata": {},
   "source": [
    "```\n",
    "     ∇ array←EncloseIfSimple array\n",
    "[1]    :If 1≥≡array   ⍝ Is simple \n",
    "[2]        array←⊂array           \n",
    "[3]    :EndIf                     \n",
    "     ∇  \n",
    "     \n",
    "      ]disp (EncloseIfSimple⍣100) ⊂2 3⍴⍳6\n",
    "┌─────┐\n",
    "│1 2 3│\n",
    "│4 5 6↓\n",
    "└~───→┘     \n",
    "```"
   ]
  },
  {
   "cell_type": "markdown",
   "metadata": {},
   "source": [
    "```\n",
    "     12 {'early' 'late'[1+⍺<⍵]} 10 5 23\n",
    "┌─────┬─────┬────┐\n",
    "│early│early│late│\n",
    "└─────┴─────┴────┘\n",
    "      IsLate\n",
    "    ∇  r←IsLate times;time\n",
    "[1]    r←''               \n",
    "[2]    :For time :In times\n",
    "[3]        :If time>12    \n",
    "[4]            r,←⊂'late' \n",
    "[5]        :Else          \n",
    "[6]            r,←⊂'early'\n",
    "[7]        :EndIf         \n",
    "[8]    :EndFor            \n",
    "    ∇   \n",
    "```"
   ]
  },
  {
   "cell_type": "markdown",
   "metadata": {},
   "source": [
    "```\n",
    "      EncloseIfSimple\n",
    "    ∇  array←EncloseIfSimple array\n",
    "[1]    :If 1≥≡array   ⍝ Is simple \n",
    "[2]        array←⊂array           \n",
    "[3]    :EndIf                     \n",
    "    ∇                             \n",
    "\n",
    "     EIS←{1≥≡⍵: ⊂⍵ ⋄ ⍵}\n",
    "     \n",
    "     EIS←{(1+1≥≡⍵)⊃⍵(⊂⍵)}\n",
    "```"
   ]
  }
 ],
 "metadata": {
  "kernelspec": {
   "display_name": "Dyalog APL",
   "language": "apl",
   "name": "dyalog-kernel"
  },
  "language_info": {
   "file_extension": ".apl",
   "mimetype": "text/apl",
   "name": "APL"
  }
 },
 "nbformat": 4,
 "nbformat_minor": 2
}
