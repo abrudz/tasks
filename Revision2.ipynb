{
 "cells": [
  {
   "cell_type": "markdown",
   "metadata": {},
   "source": [
    "QuadSolve 2 ¯6 ¯8"
   ]
  },
  {
   "cell_type": "markdown",
   "metadata": {},
   "source": [
    "      ⎕d\n",
    "0123456789\n",
    "      ¯1+⍳10\n",
    "0 1 2 3 4 5 6 7 8 9\n",
    "      ⍴⎕d\n",
    "10\n",
    "      ⎕DR ⎕d\n",
    "82\n",
    "      ⎕DR ¯1+⍳10\n",
    "83"
   ]
  },
  {
   "cell_type": "markdown",
   "metadata": {},
   "source": [
    "      {⍵∊⎕D} 'Easy as 1, 2 and 3'\n",
    "0 0 0 0 0 0 0 0 1 0 0 1 0 0 0 0 0 1\n",
    "      {(⍵∊⎕D)⌿⍵} 'Easy as 1, 2 and 3'\n",
    "123\n",
    "      {(~⍵∊⎕D)⌿⍵} 'Easy as 1, 2 and 3'\n",
    "Easy as ,  and \n",
    "      {⎕D⍳⍵} 'Easy as 1, 2 and 3'\n",
    "11 11 11 11 11 11 11 11 2 11 11 3 11 11 11 11 11 4\n",
    "      {(⎕D,'*')[⎕D⍳⍵]} 'Easy as 1, 2 and 3'\n",
    "********1**2*****3"
   ]
  },
  {
   "cell_type": "markdown",
   "metadata": {},
   "source": [
    "$ f(x) = 3x^2 + 2x + 5 $"
   ]
  },
  {
   "cell_type": "code",
   "execution_count": 4,
   "metadata": {
    "scrolled": true
   },
   "outputs": [
    {
     "data": {
      "text/html": [
       "<span style=\"white-space:pre; font-family: monospace\">10 12  3\n",
       " 5 10 12\n",
       "325 461  38\n",
       " 90 325 461\n",
       "328 464  41\n",
       " 93 328 464\n",
       "</span>"
      ]
     },
     "execution_count": 4,
     "metadata": {},
     "output_type": "execute_result"
    }
   ],
   "source": [
    "3+{⎕←(3×⍵*2) + (2×⍵) + 5} ⎕←2 3⍴10 12 3 5"
   ]
  },
  {
   "cell_type": "code",
   "execution_count": 12,
   "metadata": {},
   "outputs": [
    {
     "data": {
      "text/html": [
       "<span style=\"white-space:pre; font-family: monospace\">¯1 4\n",
       "</span>"
      ]
     },
     "execution_count": 12,
     "metadata": {},
     "output_type": "execute_result"
    }
   ],
   "source": [
    "(a b c)←2 ¯6 ¯8\n",
    "(-b(+,-)0.5*⍨(b*2)-4×a×c)÷2×a"
   ]
  },
  {
   "cell_type": "code",
   "execution_count": 24,
   "metadata": {},
   "outputs": [],
   "source": [
    "]dinput\n",
    "QuadEval←{\n",
    "  (a b c)←⍺\n",
    "  ⍝ (a×⍵*2)+(b×⍵)+c\n",
    "  ⍝ +/a b c×[2]⍵∘.*⌽¯1+⍳3\n",
    "  ⍝ a b c+.×⍉⍵∘.*⌽¯1+⍳3\n",
    "  ⍵∘.⊥⊂⍺\n",
    "}"
   ]
  },
  {
   "cell_type": "code",
   "execution_count": 25,
   "metadata": {},
   "outputs": [
    {
     "data": {
      "text/html": [
       "<span style=\"white-space:pre; font-family: monospace\">0 0\n",
       "</span>"
      ]
     },
     "execution_count": 25,
     "metadata": {},
     "output_type": "execute_result"
    }
   ],
   "source": [
    "2 ¯6 ¯8 QuadEval ¯1 4"
   ]
  },
  {
   "cell_type": "code",
   "execution_count": null,
   "metadata": {},
   "outputs": [],
   "source": [
    "'AEI' = 'OEO'\n",
    "+/'AEI' = 'OEO'\n",
    "'AEI' +.= 'OEO'"
   ]
  },
  {
   "cell_type": "markdown",
   "metadata": {},
   "source": [
    "## User-defined functions"
   ]
  },
  {
   "cell_type": "code",
   "execution_count": 5,
   "metadata": {
    "scrolled": true
   },
   "outputs": [
    {
     "name": "stderr",
     "output_type": "stream",
     "text": [
      "SYNTAX ERROR\n",
      "      13 Times←{13×⍵}\n",
      "              ∧\n"
     ]
    }
   ],
   "source": [
    "13Times ← {13×⍵}\n",
    "⍝ DefinedFunction\n",
    "⍝ ∆MyFn∆"
   ]
  },
  {
   "cell_type": "code",
   "execution_count": null,
   "metadata": {},
   "outputs": [],
   "source": [
    "⎕NL⍳9"
   ]
  },
  {
   "cell_type": "markdown",
   "metadata": {},
   "source": [
    "### In the editor\n",
    "- <kbd>Esc</kbd>: Close and save changes\n",
    "- <kbd>Shift+Esc</kbd>: Close but do not save"
   ]
  },
  {
   "cell_type": "code",
   "execution_count": 6,
   "metadata": {},
   "outputs": [],
   "source": [
    "     ∇ Main\n",
    "[1]   ⍝ Find the mean value of lengths of words in a text file\n",
    "[2]    3+4\n",
    "[3]    ¯1+6×⍳10\n",
    "[4]    var←'hello'\n",
    "[5]    var2←'hello'\n",
    "[6]   ⍝ Under program control\n",
    "     ∇"
   ]
  },
  {
   "cell_type": "code",
   "execution_count": 7,
   "metadata": {
    "scrolled": false
   },
   "outputs": [
    {
     "data": {
      "text/html": [
       "<span style=\"white-space:pre; font-family: monospace\">     ∇ Main                                                          \n",
       "[1]    [1]   ⍝ Find the mean value of lengths of words in a text file\n",
       "[2]    [2]3+4                                                        \n",
       "[3]    [3]¯1+6×⍳10                                                   \n",
       "[4]    [4]var←'hello'                                                \n",
       "[5]    [5]var2←'hello'                                               \n",
       "[6]    [6]   ⍝ Under program control                                 \n",
       "     ∇                                                               \n",
       "</span>"
      ]
     },
     "execution_count": 7,
     "metadata": {},
     "output_type": "execute_result"
    }
   ],
   "source": [
    "⎕VR'Main'"
   ]
  },
  {
   "cell_type": "markdown",
   "metadata": {},
   "source": [
    "### In the debugger/tracer \n",
    "- <kbd>Enter</kbd>: Execute line\n",
    "- <kbd>Shift+Enter</kbd>: Edit\n",
    "- <kbd>Ctrl+Up</kbd>: Toggle local name"
   ]
  },
  {
   "cell_type": "markdown",
   "metadata": {},
   "source": [
    "```\n",
    "      ⎕VR'SetStopsA'\n",
    "     ∇ SetStopsA lines                             \n",
    "[1]    lines ⎕STOP'A'                              \n",
    "     ∇ \n",
    "```"
   ]
  },
  {
   "cell_type": "markdown",
   "metadata": {},
   "source": [
    "```\n",
    "result←{option}Lengths filepath;text;tn;total_length;nwords\n",
    "⍝ Find information about lengths of words in a text file\n",
    "⍝ {option}:\n",
    "⍝           mean\n",
    "⍝  default: total\n",
    "⍝ --- Read the file ---\n",
    " tn←filepath ⎕NTIE 0\n",
    " text←⎕NREAD tn 82 ¯1\n",
    " ⎕NUNTIE tn ⍝ ⎕NUNTIE⎕NNUMS\n",
    "⍝ --- Get the list of word lengths ---\n",
    "⍝ Assuming all non-spaces are word characters and words separated by 1 space only\n",
    " total_length←+/' '≠text\n",
    "⍝ --- Total / Mean ---\n",
    " :If 0=⎕NC'option'\n",
    " ⍝ Function was called monadically\n",
    "     result←total_length\n",
    " :Else\n",
    "     :Select option\n",
    "     :Case 'mean'\n",
    "         nwords←1++/' '=text\n",
    "         result←total_length÷nwords\n",
    "     :Case 'total'\n",
    "         result←total_length\n",
    "     :Else\n",
    "         result←'Unknown Option'\n",
    "     :EndSelect\n",
    " :EndIf\n",
    "```"
   ]
  },
  {
   "cell_type": "code",
   "execution_count": null,
   "metadata": {},
   "outputs": [],
   "source": []
  }
 ],
 "metadata": {
  "kernelspec": {
   "display_name": "Dyalog APL",
   "language": "apl",
   "name": "dyalog-kernel"
  },
  "language_info": {
   "file_extension": ".apl",
   "mimetype": "text/apl",
   "name": "APL"
  }
 },
 "nbformat": 4,
 "nbformat_minor": 2
}
