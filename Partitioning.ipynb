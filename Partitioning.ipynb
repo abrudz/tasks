{
 "cells": [
  {
   "cell_type": "markdown",
   "metadata": {},
   "source": [
    "# Partitioning\n",
    "APL has two similar functions for partitioning arrays into nested arrays:\n",
    "\n",
    "Partitioned-enclose `⍺⊂⍵` and partition `⍺⊆⍵`"
   ]
  },
  {
   "cell_type": "markdown",
   "metadata": {},
   "source": [
    "## Migration Level\n",
    "The behaviour of the *partition* function can be achieved in 2 ways:\n",
    "\n",
    "Prior to Dyalog version 16.0, use `Partition←{⎕ML←3 ⋄ ⍺⊂⍵}`\n",
    "\n",
    "From version 16.0 onwards, use `Partition←{⍺ ⎕U2286 ⍵}`\n",
    "\n",
    "The monadic function **enclose-if-simple** can be encoded as a dfn: `EIS ← {1≥≡⍵: ⊂⍵ ⋄ ⍵}`\n",
    "\n",
    "From version 16.0 onwards, use `EIS←{⎕U2286 ⍵}`\n",
    "\n",
    "The only relation between partition, partitioned-enclose and enclose-if-simple is the use of left-shoe and left-shoe-underbar symbols, and use with nested arrays. Otherwise they are completely different functions."
   ]
  },
  {
   "cell_type": "markdown",
   "metadata": {},
   "source": [
    "## Tasks 8 #11 #12 #13"
   ]
  },
  {
   "cell_type": "markdown",
   "metadata": {},
   "source": [
    "Convert integers to booleans in several ways:"
   ]
  },
  {
   "cell_type": "code",
   "execution_count": 2,
   "metadata": {},
   "outputs": [
    {
     "data": {
      "text/html": [
       "<span style=\"white-space:pre; font-family: monospace\">1 0 1 0 0 0 1 1\n",
       "</span>"
      ]
     },
     "execution_count": 2,
     "metadata": {},
     "output_type": "execute_result"
    }
   ],
   "source": [
    "{b←(⌈/⍵)⍴0 ⋄ b[⍵]←1 ⋄ b} 1 3 7 3 7 8"
   ]
  },
  {
   "cell_type": "code",
   "execution_count": 3,
   "metadata": {},
   "outputs": [
    {
     "data": {
      "text/html": [
       "<span style=\"white-space:pre; font-family: monospace\">1 0 1 0 0 0 1 1\n",
       "</span>"
      ]
     },
     "execution_count": 3,
     "metadata": {},
     "output_type": "execute_result"
    }
   ],
   "source": [
    "{b←(⌈/⍵)⍴0 ⋄ ((⊂⍵)⌷b)←1 ⋄ b} 1 3 7 3 7 8"
   ]
  },
  {
   "cell_type": "code",
   "execution_count": 6,
   "metadata": {},
   "outputs": [
    {
     "data": {
      "text/html": [
       "<span style=\"white-space:pre; font-family: monospace\">1 0 1 0 0 0 1 1\n",
       "</span>"
      ]
     },
     "execution_count": 6,
     "metadata": {},
     "output_type": "execute_result"
    }
   ],
   "source": [
    "MaskAt ← {⍵∊⍨⍳⌈/⍵}\n",
    "MaskAt 1 3 7 3 7 8"
   ]
  },
  {
   "cell_type": "markdown",
   "metadata": {},
   "source": [
    "The `MaskAt` function can be used with *partitioned-enclose* to achieve the `SplitAt` function:"
   ]
  },
  {
   "cell_type": "code",
   "execution_count": 7,
   "metadata": {},
   "outputs": [
    {
     "data": {
      "text/html": [
       "<span style=\"white-space:pre; font-family: monospace\">┌──┬────┬──────┐\n",
       "│AB│CDEF│GHIJKL│\n",
       "└──┴────┴──────┘\n",
       "</span>"
      ]
     },
     "execution_count": 7,
     "metadata": {},
     "output_type": "execute_result"
    }
   ],
   "source": [
    "1 3 3 7 {((⍴⍵)↑MaskAt ⍺)⊂⍵} 12↑⎕A"
   ]
  },
  {
   "cell_type": "markdown",
   "metadata": {},
   "source": [
    "However, we can simply use the *ideas* in `MaskAt` directly in our `SplitAt` function:"
   ]
  },
  {
   "cell_type": "code",
   "execution_count": 8,
   "metadata": {},
   "outputs": [
    {
     "data": {
      "text/html": [
       "<span style=\"white-space:pre; font-family: monospace\">┌──┬────┬───┐\n",
       "│AB│CDEF│GHI│\n",
       "└──┴────┴───┘\n",
       "</span>"
      ]
     },
     "execution_count": 8,
     "metadata": {},
     "output_type": "execute_result"
    }
   ],
   "source": [
    "1 3 3 7 {((⍳⍴⍵)∊⍺)⊂⍵} 9↑⎕A"
   ]
  },
  {
   "cell_type": "markdown",
   "metadata": {},
   "source": [
    "Remove parentheses using the commute (swap) operator `⍨`"
   ]
  },
  {
   "cell_type": "code",
   "execution_count": 9,
   "metadata": {},
   "outputs": [
    {
     "data": {
      "text/html": [
       "<span style=\"white-space:pre; font-family: monospace\">┌──┬────┬───┐\n",
       "│AB│CDEF│GHI│\n",
       "└──┴────┴───┘\n",
       "</span>"
      ]
     },
     "execution_count": 9,
     "metadata": {},
     "output_type": "execute_result"
    }
   ],
   "source": [
    "1 3 3 7 {⍵⊂⍨⍺∊⍨⍳⍴⍵} 9↑⎕A"
   ]
  },
  {
   "cell_type": "markdown",
   "metadata": {},
   "source": [
    "An alternative coding uses an outer product for comparison."
   ]
  },
  {
   "cell_type": "code",
   "execution_count": 13,
   "metadata": {},
   "outputs": [
    {
     "data": {
      "text/html": [
       "<span style=\"white-space:pre; font-family: monospace\">┌────┬───┐\n",
       "│CDEF│GHI│\n",
       "└────┴───┘\n",
       "</span>"
      ]
     },
     "execution_count": 13,
     "metadata": {},
     "output_type": "execute_result"
    }
   ],
   "source": [
    "3 7 {⍵⊂⍨+⌿⍺∘.=⍳⍴⍵} 9↑⎕A"
   ]
  },
  {
   "cell_type": "markdown",
   "metadata": {},
   "source": [
    "But watch out for the edge cases of a scalar left argument, or duplicate elements in the left argument!"
   ]
  },
  {
   "cell_type": "code",
   "execution_count": 15,
   "metadata": {
    "scrolled": true
   },
   "outputs": [
    {
     "data": {
      "text/html": [
       "<span style=\"white-space:pre; font-family: monospace\">┌─┬─┬─┬─┬─┬─┬─┬─┬─┐\n",
       "│A│B│C│D│E│F│G│H│I│\n",
       "└─┴─┴─┴─┴─┴─┴─┴─┴─┘\n",
       "</span>"
      ]
     },
     "execution_count": 15,
     "metadata": {},
     "output_type": "execute_result"
    }
   ],
   "source": [
    "7 {⍵⊂⍨+⌿⍺∘.=⍳⍴⍵} 9↑⎕A"
   ]
  },
  {
   "cell_type": "code",
   "execution_count": 16,
   "metadata": {},
   "outputs": [
    {
     "data": {
      "text/html": [
       "<span style=\"white-space:pre; font-family: monospace\">┌──┬┬────┬───┐\n",
       "│AB││CDEF│GHI│\n",
       "└──┴┴────┴───┘\n",
       "</span>"
      ]
     },
     "execution_count": 16,
     "metadata": {},
     "output_type": "execute_result"
    }
   ],
   "source": [
    "1 3 3 7 {⍵⊂⍨+⌿⍺∘.=⍳⍴⍵} 9↑⎕A"
   ]
  },
  {
   "cell_type": "markdown",
   "metadata": {},
   "source": [
    "Fix with **or-reduce** and **ravel**:"
   ]
  },
  {
   "cell_type": "code",
   "execution_count": 17,
   "metadata": {},
   "outputs": [
    {
     "data": {
      "text/html": [
       "<span style=\"white-space:pre; font-family: monospace\">┌───┐\n",
       "│GHI│\n",
       "└───┘\n",
       "</span>"
      ]
     },
     "execution_count": 17,
     "metadata": {},
     "output_type": "execute_result"
    }
   ],
   "source": [
    "7 {⍵⊂⍨∨⌿(,⍺)∘.=⍳⍴⍵} 9↑⎕A"
   ]
  },
  {
   "cell_type": "code",
   "execution_count": 18,
   "metadata": {},
   "outputs": [
    {
     "data": {
      "text/html": [
       "<span style=\"white-space:pre; font-family: monospace\">┌──┬────┬───┐\n",
       "│AB│CDEF│GHI│\n",
       "└──┴────┴───┘\n",
       "</span>"
      ]
     },
     "execution_count": 18,
     "metadata": {},
     "output_type": "execute_result"
    }
   ],
   "source": [
    "1 3 3 7 {⍵⊂⍨∨⌿(,⍺)∘.=⍳⍴⍵} 9↑⎕A"
   ]
  }
 ],
 "metadata": {
  "kernelspec": {
   "display_name": "Dyalog APL",
   "language": "apl",
   "name": "dyalog-kernel"
  },
  "language_info": {
   "file_extension": ".apl",
   "mimetype": "text/apl",
   "name": "APL"
  }
 },
 "nbformat": 4,
 "nbformat_minor": 2
}
